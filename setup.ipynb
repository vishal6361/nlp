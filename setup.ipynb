{
  "nbformat": 4,
  "nbformat_minor": 0,
  "metadata": {
    "colab": {
      "name": "setup.ipynb",
      "provenance": [],
      "collapsed_sections": [],
      "include_colab_link": true
    },
    "kernelspec": {
      "name": "python3",
      "display_name": "Python 3"
    }
  },
  "cells": [
    {
      "cell_type": "markdown",
      "metadata": {
        "id": "view-in-github",
        "colab_type": "text"
      },
      "source": [
        "<a href=\"https://colab.research.google.com/github/vishal6361/nlp/blob/master/setup.ipynb\" target=\"_parent\"><img src=\"https://colab.research.google.com/assets/colab-badge.svg\" alt=\"Open In Colab\"/></a>"
      ]
    },
    {
      "cell_type": "code",
      "metadata": {
        "id": "Zk2Sze8qQI2h",
        "colab_type": "code",
        "colab": {}
      },
      "source": [
        "# ! git clone https://github.com/vishal6361/nlp.git"
      ],
      "execution_count": 0,
      "outputs": []
    },
    {
      "cell_type": "code",
      "metadata": {
        "id": "WXEwNnRvQTpS",
        "colab_type": "code",
        "colab": {}
      },
      "source": [
        "! ls\n"
      ],
      "execution_count": 0,
      "outputs": []
    },
    {
      "cell_type": "code",
      "metadata": {
        "id": "WRqjmx0YQUZ3",
        "colab_type": "code",
        "colab": {}
      },
      "source": [
        "# from zipfile import ZipFile\n",
        "# filename = 'DataSet.zip'\n",
        "\n",
        "# with ZipFile(filename, 'r') as zip:\n",
        "#   print('Extract zip file...')\n",
        "#   zip.extractall()\n",
        "#   print('Done...')"
      ],
      "execution_count": 0,
      "outputs": []
    },
    {
      "cell_type": "code",
      "metadata": {
        "id": "GTAbktgxQXgJ",
        "colab_type": "code",
        "colab": {}
      },
      "source": [
        "# ! git add .\n",
        "# ! git config --global user.email 'gaurav.singh141@gmail.com'\n",
        "# ! git config --global user.name 'Vishal Maurya'\n",
        "# ! git commit -m 'Extracted data files...'\n",
        "# ! git config --global --list\n",
        "# ! git remote set-url origin git@github.com:vishal6361/nlp.git\n",
        "# ! git config push.default 'simple'\n",
        "# ! git  config --list\n",
        "\n"
      ],
      "execution_count": 0,
      "outputs": []
    },
    {
      "cell_type": "code",
      "metadata": {
        "id": "EqZW8_uKQcTS",
        "colab_type": "code",
        "colab": {}
      },
      "source": [
        "# ! mkdir -p ~/.ssh\n",
        "# ! ssh-keyscan -t rsa github.com >> ~/.ssh/known_hosts\n",
        "# ! ssh-keygen -t rsa -C \"user.email\"\n",
        "# !  cat ~/.ssh/id_rsa.pub\n"
      ],
      "execution_count": 0,
      "outputs": []
    },
    {
      "cell_type": "code",
      "metadata": {
        "id": "1knxXLvpQf-c",
        "colab_type": "code",
        "colab": {}
      },
      "source": [
        "# ! git push --all"
      ],
      "execution_count": 0,
      "outputs": []
    }
  ]
}